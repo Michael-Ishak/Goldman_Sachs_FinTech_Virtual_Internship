{
 "cells": [
  {
   "cell_type": "code",
   "execution_count": 2,
   "id": "cbb1f4fc",
   "metadata": {},
   "outputs": [],
   "source": [
    "import hashlib\n",
    "from urllib.request import urlopen\n",
    "import re"
   ]
  },
  {
   "cell_type": "code",
   "execution_count": 3,
   "id": "053461c5",
   "metadata": {},
   "outputs": [],
   "source": [
    "f = open('GS_Password_Dump.txt','r') #Open the Goldman Sachs password dump\n",
    "GS_Passwords = f.read().split(':') #Split the string of paswords into strings split by ':' delimeter\n",
    "#GS_Passwords"
   ]
  },
  {
   "cell_type": "code",
   "execution_count": 4,
   "id": "d789ef96",
   "metadata": {},
   "outputs": [],
   "source": [
    "#remove all characters after \\n for each line and remove the first unhashed string\n",
    "ch = '\\n'\n",
    "GS_Hashes = []\n",
    "for i in range(1,len(GS_Passwords)):\n",
    "    GS_Hashes.append(GS_Passwords[i].split(ch, 1)[0])"
   ]
  },
  {
   "cell_type": "code",
   "execution_count": 5,
   "id": "2317cf92",
   "metadata": {},
   "outputs": [],
   "source": [
    "#GS_Hashes #Remaining hashes"
   ]
  },
  {
   "cell_type": "code",
   "execution_count": 6,
   "id": "a9f47a5c",
   "metadata": {},
   "outputs": [
    {
     "data": {
      "text/plain": [
       "32"
      ]
     },
     "execution_count": 6,
     "metadata": {},
     "output_type": "execute_result"
    }
   ],
   "source": [
    "len(GS_Hashes[-1]) # Shows the encryption is MD5 as MD5 hashes are 128 bits and therefore 32 hexadecimal digits long."
   ]
  },
  {
   "cell_type": "code",
   "execution_count": 7,
   "id": "6b73cf72",
   "metadata": {},
   "outputs": [],
   "source": [
    "#Password database we'll test against\n",
    "with open('Password_Database.txt', 'r') as pw_data:\n",
    "    unclean_pw_data = pw_data.read()\n",
    "clean_pw_data = unclean_pw_data.replace('\\n', ' ').strip().split(' ')"
   ]
  },
  {
   "cell_type": "code",
   "execution_count": 8,
   "id": "bcb531dc",
   "metadata": {},
   "outputs": [],
   "source": [
    "#clean_pw_data"
   ]
  },
  {
   "cell_type": "code",
   "execution_count": 9,
   "id": "6c008f73",
   "metadata": {},
   "outputs": [],
   "source": [
    "#Convert passwords into md5 hashtypes\n",
    "def hash(word):\n",
    "    hashed = hashlib.md5(word.encode())\n",
    "    return(hashed.hexdigest())"
   ]
  },
  {
   "cell_type": "code",
   "execution_count": 10,
   "id": "f8aa0808",
   "metadata": {},
   "outputs": [
    {
     "name": "stdout",
     "output_type": "stream",
     "text": [
      "123456 e10adc3949ba59abbe56e057f20f883e\n",
      "password 5f4dcc3b5aa765d61d8327deb882cf99\n",
      "12345678 25d55ad283aa400af464c76d713c07ad\n",
      "123456789 25f9e794323b453885f5181f1b624d0b\n",
      "qwerty d8578edf8458ce06fbc5bb76a58c5ca4\n",
      "123456789 25f9e794323b453885f5181f1b624d0b\n",
      "111111 96e79218965eb72c92a549dd5a330112\n",
      "1234567 fcea920f7412b5da7be0cf42b8c93759\n",
      "abc123 e99a18c428cb38d5f260853678922e03\n",
      "qazxsw 3f230640b78d7e71ac5514e57935eb69\n",
      "password1 7c6a180b36896a0a8c02787eeafb0e4c\n",
      "Pa$$word1 917eb5e9d6d6bca820922a0c6f7cc28b\n",
      "Flamesbria2001 9b3b269ad0a208090309f091b3aba9db\n",
      "Oranolio1994 16ced47d3fc931483e24933665cded6d\n",
      "Spuffyffet12 1f5c5683982d7c3814d4d9e6d749b21e\n",
      "bluered f6a0cb102c62879d397b12b62c092c06\n",
      "password! 6c569aabbf7775ef8fc570e228c16b98\n",
      "nAbox!1 defebde7b6ab6f24d5824682a16c3ae4\n",
      "Banda11s bdda5f03128bcbdfa78d8934529048cf\n",
      "moodie00 8d763385e0476ae208f21bc63956f748\n"
     ]
    }
   ],
   "source": [
    "#Brute Force method:\n",
    "for i in range(0,len(clean_pw_data)):\n",
    "    for j in range(0, len(GS_Hashes)):\n",
    "        if hash(clean_pw_data[i]) == GS_Hashes[j]:\n",
    "            print(clean_pw_data[i], GS_Hashes[j])"
   ]
  },
  {
   "cell_type": "code",
   "execution_count": null,
   "id": "b80c88ec",
   "metadata": {},
   "outputs": [],
   "source": []
  }
 ],
 "metadata": {
  "kernelspec": {
   "display_name": "Python 3",
   "language": "python",
   "name": "python3"
  },
  "language_info": {
   "codemirror_mode": {
    "name": "ipython",
    "version": 3
   },
   "file_extension": ".py",
   "mimetype": "text/x-python",
   "name": "python",
   "nbconvert_exporter": "python",
   "pygments_lexer": "ipython3",
   "version": "3.8.8"
  }
 },
 "nbformat": 4,
 "nbformat_minor": 5
}
